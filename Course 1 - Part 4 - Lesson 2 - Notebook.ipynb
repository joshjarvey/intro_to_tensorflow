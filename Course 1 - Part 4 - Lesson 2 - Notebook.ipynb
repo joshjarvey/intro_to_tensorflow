{
  "nbformat": 4,
  "nbformat_minor": 0,
  "metadata": {
    "colab": {
      "name": "Colab's New Code Editor",
      "provenance": [],
      "collapsed_sections": [],
      "include_colab_link": true
    },
    "kernelspec": {
      "display_name": "Python 3",
      "name": "python3"
    }
  },
  "cells": [
    {
      "cell_type": "markdown",
      "metadata": {
        "id": "view-in-github",
        "colab_type": "text"
      },
      "source": [
        "<a href=\"https://colab.research.google.com/github/joshjarvey/intro_to_tensorflow/blob/master/Course%201%20-%20Part%204%20-%20Lesson%202%20-%20Notebook.ipynb\" target=\"_parent\"><img src=\"https://colab.research.google.com/assets/colab-badge.svg\" alt=\"Open In Colab\"/></a>"
      ]
    },
    {
      "cell_type": "code",
      "metadata": {
        "id": "XspiWtqaQtI8",
        "colab_type": "code",
        "colab": {}
      },
      "source": [
        "import tensorflow as tf\n",
        "import matplotlib.pyplot as plt\n",
        "\n"
      ],
      "execution_count": 0,
      "outputs": []
    },
    {
      "cell_type": "code",
      "metadata": {
        "id": "ZV5glcWUVTQx",
        "colab_type": "code",
        "colab": {
          "base_uri": "https://localhost:8080/",
          "height": 151
        },
        "outputId": "4267574a-3715-4e87-ea86-d1e7110c23bf"
      },
      "source": [
        "dataset = tf.keras.datasets.fashion_mnist\n",
        "(training_images, training_labels), (test_images, test_labels) = dataset.load_data()"
      ],
      "execution_count": 12,
      "outputs": [
        {
          "output_type": "stream",
          "text": [
            "Downloading data from https://storage.googleapis.com/tensorflow/tf-keras-datasets/train-labels-idx1-ubyte.gz\n",
            "32768/29515 [=================================] - 0s 0us/step\n",
            "Downloading data from https://storage.googleapis.com/tensorflow/tf-keras-datasets/train-images-idx3-ubyte.gz\n",
            "26427392/26421880 [==============================] - 0s 0us/step\n",
            "Downloading data from https://storage.googleapis.com/tensorflow/tf-keras-datasets/t10k-labels-idx1-ubyte.gz\n",
            "8192/5148 [===============================================] - 0s 0us/step\n",
            "Downloading data from https://storage.googleapis.com/tensorflow/tf-keras-datasets/t10k-images-idx3-ubyte.gz\n",
            "4423680/4422102 [==============================] - 0s 0us/step\n"
          ],
          "name": "stdout"
        }
      ]
    },
    {
      "cell_type": "code",
      "metadata": {
        "id": "RHHdmmt7Vqjn",
        "colab_type": "code",
        "colab": {}
      },
      "source": [
        "training_images = training_images/255\n",
        "test_images = test_images/255\n",
        "\n"
      ],
      "execution_count": 0,
      "outputs": []
    },
    {
      "cell_type": "code",
      "metadata": {
        "id": "6Tazc8S3Wqqm",
        "colab_type": "code",
        "colab": {
          "base_uri": "https://localhost:8080/",
          "height": 370
        },
        "outputId": "3143a9e5-a5f4-40c4-c22d-04ef466888de"
      },
      "source": [
        "class myCallBack(tf.keras.callbacks.Callback):\n",
        "  def on_epoc_end(self, epoch, logs={}):\n",
        "    if(logs.get('loss')<0.4):\n",
        "      print(\"\\nReached 60% accuracy so cancelling training.\")\n",
        "      self.model.stop_training = True\n",
        "callbacks = myCallBack()\n",
        "model = tf.keras.models.Sequential([tf.keras.layers.Flatten(), tf.keras.layers.Dense(512,activation='relu'),tf.keras.layers.Dense(512,activation='relu'), tf.keras.layers.Dense(10,activation='softmax')])\n",
        "model.compile(optimizer='adam',loss='sparse_categorical_crossentropy', metrics=['accuracy'])\n",
        "model.fit(training_images, training_labels, epochs=10, callbacks=[callbacks])"
      ],
      "execution_count": 50,
      "outputs": [
        {
          "output_type": "stream",
          "text": [
            "Epoch 1/10\n",
            "60000/60000 [==============================] - 13s 224us/sample - loss: 0.4624 - acc: 0.8326\n",
            "Epoch 2/10\n",
            "60000/60000 [==============================] - 14s 225us/sample - loss: 0.3557 - acc: 0.8680\n",
            "Epoch 3/10\n",
            "60000/60000 [==============================] - 13s 218us/sample - loss: 0.3205 - acc: 0.8802\n",
            "Epoch 4/10\n",
            "60000/60000 [==============================] - 13s 216us/sample - loss: 0.2960 - acc: 0.8898\n",
            "Epoch 5/10\n",
            "60000/60000 [==============================] - 13s 217us/sample - loss: 0.2768 - acc: 0.8962\n",
            "Epoch 6/10\n",
            "60000/60000 [==============================] - 13s 216us/sample - loss: 0.2631 - acc: 0.8999\n",
            "Epoch 7/10\n",
            "60000/60000 [==============================] - 13s 222us/sample - loss: 0.2497 - acc: 0.9062\n",
            "Epoch 8/10\n",
            "60000/60000 [==============================] - 13s 216us/sample - loss: 0.2404 - acc: 0.9096\n",
            "Epoch 9/10\n",
            "60000/60000 [==============================] - 13s 214us/sample - loss: 0.2271 - acc: 0.9137\n",
            "Epoch 10/10\n",
            "60000/60000 [==============================] - 13s 218us/sample - loss: 0.2197 - acc: 0.9171\n"
          ],
          "name": "stdout"
        },
        {
          "output_type": "execute_result",
          "data": {
            "text/plain": [
              "<tensorflow.python.keras.callbacks.History at 0x7f58fae7e080>"
            ]
          },
          "metadata": {
            "tags": []
          },
          "execution_count": 50
        }
      ]
    },
    {
      "cell_type": "code",
      "metadata": {
        "id": "K4By0wzVZ8Su",
        "colab_type": "code",
        "colab": {
          "base_uri": "https://localhost:8080/",
          "height": 50
        },
        "outputId": "20657f72-c2eb-4b15-801d-e8eb19af8702"
      },
      "source": [
        "model.evaluate(test_images,test_labels)"
      ],
      "execution_count": 37,
      "outputs": [
        {
          "output_type": "stream",
          "text": [
            "10000/10000 [==============================] - 1s 59us/sample - loss: 0.3203 - acc: 0.8890\n"
          ],
          "name": "stdout"
        },
        {
          "output_type": "execute_result",
          "data": {
            "text/plain": [
              "[0.320291109752655, 0.889]"
            ]
          },
          "metadata": {
            "tags": []
          },
          "execution_count": 37
        }
      ]
    },
    {
      "cell_type": "code",
      "metadata": {
        "id": "_bWTzb7DaB8V",
        "colab_type": "code",
        "colab": {
          "base_uri": "https://localhost:8080/",
          "height": 50
        },
        "outputId": "3783c33c-0f91-4421-f067-a6544491454b"
      },
      "source": [
        "classifications=model.predict(test_images)\n",
        "print(classifications[0])"
      ],
      "execution_count": 38,
      "outputs": [
        {
          "output_type": "stream",
          "text": [
            "[1.2705368e-09 8.0098818e-12 5.1936046e-11 2.0651946e-12 4.8057575e-10\n",
            " 2.5067495e-05 9.4108499e-10 2.0657880e-03 1.2055432e-09 9.9790913e-01]\n"
          ],
          "name": "stdout"
        }
      ]
    },
    {
      "cell_type": "code",
      "metadata": {
        "id": "-s0xYm_2fOc8",
        "colab_type": "code",
        "colab": {}
      },
      "source": [
        ""
      ],
      "execution_count": 0,
      "outputs": []
    }
  ]
}