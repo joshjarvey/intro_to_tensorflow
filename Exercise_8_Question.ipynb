{
  "nbformat": 4,
  "nbformat_minor": 0,
  "metadata": {
    "colab": {
      "name": "Exercise 8 - Question.ipynb",
      "provenance": []
    },
    "kernelspec": {
      "name": "python3",
      "display_name": "Python 3"
    }
  },
  "cells": [
    {
      "cell_type": "code",
      "metadata": {
        "id": "wYtuKeK0dImp",
        "colab_type": "code",
        "colab": {}
      },
      "source": [
        "import csv\n",
        "import numpy as np\n",
        "import tensorflow as tf\n",
        "from tensorflow.keras.preprocessing.image import ImageDataGenerator\n",
        "from google.colab import files"
      ],
      "execution_count": 0,
      "outputs": []
    },
    {
      "cell_type": "markdown",
      "metadata": {
        "id": "EmMyh9_mkDHF",
        "colab_type": "text"
      },
      "source": [
        "The data for this exercise is available at: https://www.kaggle.com/datamunge/sign-language-mnist/home\n",
        "\n",
        "Sign up and download to find 2 CSV files: sign_mnist_test.csv and sign_mnist_train.csv -- You will upload both of them using this button before you can continue.\n"
      ]
    },
    {
      "cell_type": "code",
      "metadata": {
        "id": "IcLOZlnnc_N7",
        "colab_type": "code",
        "colab": {}
      },
      "source": [
        "uploaded=files.upload()"
      ],
      "execution_count": 0,
      "outputs": []
    },
    {
      "cell_type": "code",
      "metadata": {
        "id": "4kxw-_rmcnVu",
        "colab_type": "code",
        "colab": {
          "base_uri": "https://localhost:8080/",
          "height": 84
        },
        "outputId": "57754cf9-7ad4-4abd-ab1e-a97a84f9854c"
      },
      "source": [
        "def get_data(filename):\n",
        "  # You will need to write code that will read the file passed\n",
        "  # into this function. The first line contains the column headers\n",
        "  # so you should ignore it\n",
        "  # Each successive line contians 785 comma separated values between 0 and 255\n",
        "  # The first value is the label\n",
        "  # The rest are the pixel values for that picture\n",
        "  # The function will return 2 np.array types. One with all the labels\n",
        "  # One with all the images\n",
        "  #\n",
        "  # Tips: \n",
        "  # If you read a full line (as 'row') then row[0] has the label\n",
        "  # and row[1:785] has the 784 pixel values\n",
        "  # Take a look at np.array_split to turn the 784 pixels into 28x28\n",
        "  # You are reading in strings, but need the values to be floats\n",
        "  # Check out np.array().astype for a conversion\n",
        "    with open(filename) as training_file:\n",
        "      csv_reader = csv.reader(training_file, delimiter=',')\n",
        "      \n",
        "      #skip the header line\n",
        "      next(csv_reader)\n",
        "\n",
        "      #instantiating empty list variables for the reader\n",
        "      temp_labels = []\n",
        "      temp_images = []\n",
        "\n",
        "      #reading each row in the csv data file\n",
        "      for row in csv_reader:\n",
        "        #adding the first column in the data file into the list variable\n",
        "        temp_labels.append(row[0])\n",
        "        #read in the image data into a variable\n",
        "        image = row[1:785]\n",
        "        #split the image array into a 28x28 np array\n",
        "        split_image=np.array_split(image,28)\n",
        "        #adding the splitted image values to the array.\n",
        "        temp_images.append(split_image)\n",
        "\n",
        "      #coverting the label data into a numpy float array    \n",
        "      labels = np.array(temp_labels).astype('float')\n",
        "      #coverting the image data into a numpy float array\n",
        "      images = np.array(temp_images).astype('float')\n",
        "    return images, labels\n",
        "\n",
        "#calling the function to load the data from the CSV's into each training and test variables for the label and image values\n",
        "training_images, training_labels = get_data('sign_mnist_train.csv')\n",
        "testing_images, testing_labels = get_data('sign_mnist_test.csv')\n",
        "\n",
        "#printing the shape of the variables\n",
        "print(training_images.shape)\n",
        "print(training_labels.shape)\n",
        "print(testing_images.shape)\n",
        "print(testing_labels.shape)\n",
        "\n",
        "\n",
        "# Their output should be:\n",
        "# (27455, 28, 28)\n",
        "# (27455,)\n",
        "# (7172, 28, 28)\n",
        "# (7172,)"
      ],
      "execution_count": 49,
      "outputs": [
        {
          "output_type": "stream",
          "text": [
            "(27455, 28, 28)\n",
            "(27455,)\n",
            "(7172, 28, 28)\n",
            "(7172,)\n"
          ],
          "name": "stdout"
        }
      ]
    },
    {
      "cell_type": "code",
      "metadata": {
        "id": "awoqRpyZdQkD",
        "colab_type": "code",
        "colab": {
          "base_uri": "https://localhost:8080/",
          "height": 118
        },
        "outputId": "0c4d2044-5cff-4e4f-837e-e91bcfab6368"
      },
      "source": [
        "# In this section you will have to add another dimension to the data\n",
        "# So, for example, if your array is (10000, 28, 28)\n",
        "# You will need to make it (10000, 28, 28, 1)\n",
        "# Hint: np.expand_dims\n",
        "\n",
        "\n",
        "  #expanding the array dimensions so they can be fed into the CNN.\n",
        "training_images = np.expand_dims(training_images, axis=4)\n",
        "testing_images = np.expand_dims(testing_images, axis=4)\n",
        "\n",
        "  #defining the image data generator for the training set with augmentation\n",
        "train_datagen = ImageDataGenerator(\n",
        "    rescale=1/255,\n",
        "    rotation_range=40,\n",
        "    width_shift_range=0.2,\n",
        "    height_shift_range=0.2,\n",
        "    horizontal_flip = True,\n",
        "    shear_range=0.2,\n",
        "    zoom_range=0.2,\n",
        "    fill_mode='nearest'\n",
        "    )\n",
        "\n",
        "  #defining the image data generator for the test set\n",
        "validation_datagen = ImageDataGenerator(\n",
        "    rescale=1/255\n",
        "    )\n",
        "    \n",
        "  #checking shape after expanding\n",
        "print(training_images.shape)\n",
        "print(testing_images.shape)\n",
        "    \n",
        "# Their output should be:\n",
        "# (27455, 28, 28, 1)\n",
        "# (7172, 28, 28, 1)"
      ],
      "execution_count": 50,
      "outputs": [
        {
          "output_type": "stream",
          "text": [
            "(27455, 28, 28, 1)\n",
            "(7172, 28, 28, 1)\n"
          ],
          "name": "stdout"
        },
        {
          "output_type": "stream",
          "text": [
            "/usr/local/lib/python3.6/dist-packages/ipykernel_launcher.py:2: DeprecationWarning: Both axis > a.ndim and axis < -a.ndim - 1 are deprecated and will raise an AxisError in the future.\n",
            "  \n",
            "/usr/local/lib/python3.6/dist-packages/ipykernel_launcher.py:3: DeprecationWarning: Both axis > a.ndim and axis < -a.ndim - 1 are deprecated and will raise an AxisError in the future.\n",
            "  This is separate from the ipykernel package so we can avoid doing imports until\n"
          ],
          "name": "stderr"
        }
      ]
    },
    {
      "cell_type": "code",
      "metadata": {
        "id": "Rmb7S32cgRqS",
        "colab_type": "code",
        "colab": {
          "base_uri": "https://localhost:8080/",
          "height": 554
        },
        "outputId": "8eeb3f4e-a6c5-4609-9f8d-f346bbc57513"
      },
      "source": [
        "  #building the CNN with 2 convolutions and poolings. \n",
        "  #flatten after CNNs, and using softmax to predict the one of the 26 \"signs\" as an output\n",
        "model = tf.keras.models.Sequential([\n",
        "  tf.keras.layers.Conv2D(64, (3,3), activation='relu', input_shape=(28,28,1)),\n",
        "  tf.keras.layers.MaxPool2D(2,2),\n",
        "  tf.keras.layers.Conv2D(64, (3,3), activation='relu'),\n",
        "  tf.keras.layers.MaxPool2D(2,2),\n",
        "  tf.keras.layers.Flatten(),\n",
        "  tf.keras.layers.Dense(128,activation='relu'),\n",
        "  tf.keras.layers.Dense(26,activation='softmax')])\n",
        "\n",
        "  #compiling the neural net - using ADAM and categorical crossentropy.\n",
        "model.compile(optimizer='adam',loss='sparse_categorical_crossentropy', metrics=['accuracy'])\n",
        "\n",
        "  #using the image generator to pull the data from the files in batches of 32\n",
        "training_generator = train_datagen.flow(training_images,training_labels,batch_size=32)\n",
        "validation_generator = validation_datagen.flow(testing_images,testing_labels,batch_size=32)\n",
        "\n",
        " #executing the model for 15 epochs\n",
        "history = model.fit_generator(training_generator, validation_data=validation_generator,epochs=15)\n",
        "\n",
        "\n",
        "model.evaluate(testing_images, testing_labels)\n",
        "    \n",
        "# The output from model.evaluate should be close to:\n",
        "#[6.92426086682151, 0.56609035]\n"
      ],
      "execution_count": 51,
      "outputs": [
        {
          "output_type": "stream",
          "text": [
            "Epoch 1/15\n",
            "858/858 [==============================] - 65s 76ms/step - loss: 2.7572 - acc: 0.1592 - val_loss: 1.9423 - val_acc: 0.3606\n",
            "Epoch 2/15\n",
            "858/858 [==============================] - 65s 76ms/step - loss: 1.9933 - acc: 0.3675 - val_loss: 1.3186 - val_acc: 0.5498\n",
            "Epoch 3/15\n",
            "858/858 [==============================] - 65s 75ms/step - loss: 1.6150 - acc: 0.4829 - val_loss: 0.9920 - val_acc: 0.6686\n",
            "Epoch 4/15\n",
            "858/858 [==============================] - 65s 76ms/step - loss: 1.3839 - acc: 0.5493 - val_loss: 0.7855 - val_acc: 0.7448\n",
            "Epoch 5/15\n",
            "858/858 [==============================] - 63s 74ms/step - loss: 1.2306 - acc: 0.5964 - val_loss: 0.6823 - val_acc: 0.7672\n",
            "Epoch 6/15\n",
            "858/858 [==============================] - 64s 75ms/step - loss: 1.1079 - acc: 0.6365 - val_loss: 0.6966 - val_acc: 0.7547\n",
            "Epoch 7/15\n",
            "858/858 [==============================] - 64s 75ms/step - loss: 1.0093 - acc: 0.6686 - val_loss: 0.5294 - val_acc: 0.8066\n",
            "Epoch 8/15\n",
            "858/858 [==============================] - 65s 75ms/step - loss: 0.9476 - acc: 0.6889 - val_loss: 0.5638 - val_acc: 0.7842\n",
            "Epoch 9/15\n",
            "858/858 [==============================] - 64s 74ms/step - loss: 0.8716 - acc: 0.7135 - val_loss: 0.4585 - val_acc: 0.8508\n",
            "Epoch 10/15\n",
            "858/858 [==============================] - 64s 75ms/step - loss: 0.8228 - acc: 0.7265 - val_loss: 0.4357 - val_acc: 0.8547\n",
            "Epoch 11/15\n",
            "858/858 [==============================] - 65s 75ms/step - loss: 0.7716 - acc: 0.7453 - val_loss: 0.4257 - val_acc: 0.8500\n",
            "Epoch 12/15\n",
            "858/858 [==============================] - 64s 74ms/step - loss: 0.7413 - acc: 0.7532 - val_loss: 0.4464 - val_acc: 0.8328\n",
            "Epoch 13/15\n",
            "858/858 [==============================] - 61s 72ms/step - loss: 0.6934 - acc: 0.7701 - val_loss: 0.3432 - val_acc: 0.8779\n",
            "Epoch 14/15\n",
            "858/858 [==============================] - 63s 73ms/step - loss: 0.6678 - acc: 0.7774 - val_loss: 0.3142 - val_acc: 0.8837\n",
            "Epoch 15/15\n",
            "858/858 [==============================] - 63s 73ms/step - loss: 0.6536 - acc: 0.7843 - val_loss: 0.3986 - val_acc: 0.8560\n",
            "7172/7172 [==============================] - 4s 533us/sample - loss: 165.7695 - acc: 0.7066\n"
          ],
          "name": "stdout"
        },
        {
          "output_type": "execute_result",
          "data": {
            "text/plain": [
              "[165.76954238985215, 0.7066369]"
            ]
          },
          "metadata": {
            "tags": []
          },
          "execution_count": 51
        }
      ]
    },
    {
      "cell_type": "code",
      "metadata": {
        "id": "_Q3Zpr46dsij",
        "colab_type": "code",
        "colab": {
          "base_uri": "https://localhost:8080/",
          "height": 545
        },
        "outputId": "c166c3a9-a90c-46f0-df57-9bb58f78b730"
      },
      "source": [
        "# Plot the chart for accuracy and loss on both training and validation\n",
        "\n",
        "import matplotlib.pyplot as plt\n",
        "acc = history.history['acc']\n",
        "val_acc = history.history['val_acc']\n",
        "loss = history.history['loss']\n",
        "val_loss = history.history['val_loss']\n",
        "\n",
        "epochs = range(len(acc))\n",
        "\n",
        "plt.plot(epochs, acc, 'r', label='Training accuracy')\n",
        "plt.plot(epochs, val_acc, 'b', label='Validation accuracy')\n",
        "plt.title('Training and validation accuracy')\n",
        "plt.legend()\n",
        "plt.figure()\n",
        "\n",
        "plt.plot(epochs, loss, 'r', label='Training Loss')\n",
        "plt.plot(epochs, val_loss, 'b', label='Validation Loss')\n",
        "plt.title('Training and validation loss')\n",
        "plt.legend()\n",
        "\n",
        "plt.show()"
      ],
      "execution_count": 52,
      "outputs": [
        {
          "output_type": "display_data",
          "data": {
            "image/png": "[encoded data removed]",
            "text/plain": [
              "<Figure size 432x288 with 1 Axes>"
            ]
          },
          "metadata": {
            "tags": []
          }
        },
        {
          "output_type": "display_data",
          "data": {
            "image/png": "[encoded data removed]",
            "text/plain": [
              "<Figure size 432x288 with 1 Axes>"
            ]
          },
          "metadata": {
            "tags": []
          }
        }
      ]
    }
  ]
}