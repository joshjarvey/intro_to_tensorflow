{
 "cells": [
  {
   "cell_type": "markdown",
   "metadata": {
    "colab_type": "text",
    "id": "UncprnB0ymAE"
   },
   "source": [
    "Below is code with a link to a happy or sad dataset which contains 80 images, 40 happy and 40 sad. \n",
    "Create a convolutional neural network that trains to 100% accuracy on these images,  which cancels training upon hitting training accuracy of >.999\n",
    "\n",
    "Hint -- it will work best with 3 convolutional layers."
   ]
  },
  {
   "cell_type": "code",
   "execution_count": 13,
   "metadata": {},
   "outputs": [],
   "source": [
    "import tensorflow as tf\n",
    "import os\n",
    "import zipfile\n",
    "from os import path, getcwd, chdir\n",
    "\n",
    "# DO NOT CHANGE THE LINE BELOW. If you are developing in a local\n",
    "# environment, then grab happy-or-sad.zip from the Coursera Jupyter Notebook\n",
    "# and place it inside a local folder and edit the path to that location\n",
    "path = f\"{getcwd()}/../tmp2/happy-or-sad.zip\"\n",
    "\n",
    "zip_ref = zipfile.ZipFile(path, 'r')\n",
    "zip_ref.extractall(\"/tmp/h-or-s\")\n",
    "zip_ref.close()"
   ]
  },
  {
   "cell_type": "code",
   "execution_count": 23,
   "metadata": {},
   "outputs": [],
   "source": [
    "class myCallBack(tf.keras.callbacks.Callback):\n",
    "  def on_epoch_end(self, epoch, logs={}):\n",
    "    if(logs.get('acc')>0.999):\n",
    "      print(\"\\nReached 99.9% accuracy so cancelling training!\")\n",
    "      self.model.stop_training = True"
   ]
  },
  {
   "cell_type": "code",
   "execution_count": 28,
   "metadata": {},
   "outputs": [],
   "source": [
    "# GRADED FUNCTION: train_happy_sad_model\n",
    "def train_happy_sad_model():\n",
    "    # Please write your code only where you are indicated.\n",
    "    # please do not remove # model fitting inline comments.\n",
    "    \n",
    "    callbacks = myCallBack()\n",
    "    \n",
    "    # This Code Block should Define and Compile the Model. Please assume the images are 150 X 150 in your implementation.\n",
    "    model = tf.keras.models.Sequential([\n",
    "        tf.keras.layers.Conv2D(64, (3,3), activation='relu', input_shape=(150,150,3)),\n",
    "        tf.keras.layers.MaxPool2D(2,2),\n",
    "        tf.keras.layers.Conv2D(64, (3,3), activation='relu'),\n",
    "        tf.keras.layers.MaxPool2D(2,2),\n",
    "        tf.keras.layers.Conv2D(64, (3,3), activation='relu'),\n",
    "        tf.keras.layers.MaxPool2D(2,2),\n",
    "        tf.keras.layers.Flatten(),\n",
    "        tf.keras.layers.Dense(512,activation='relu'),\n",
    "        tf.keras.layers.Dense(1,activation='sigmoid')\n",
    "    ])\n",
    "\n",
    "    from tensorflow.keras.optimizers import RMSprop\n",
    "\n",
    "    model.compile(optimizer=RMSprop(lr=0.001), loss='binary_crossentropy', metrics=['accuracy'])\n",
    "        \n",
    "\n",
    "    # This code block should create an instance of an ImageDataGenerator called train_datagen \n",
    "    # And a train_generator by calling train_datagen.flow_from_directory\n",
    "\n",
    "    from tensorflow.keras.preprocessing.image import ImageDataGenerator\n",
    "\n",
    "    train_datagen = ImageDataGenerator(rescale=1/255)\n",
    "\n",
    "    # Please use a target_size of 150 X 150.\n",
    "    train_generator = train_datagen.flow_from_directory('/tmp/h-or-s',target_size=(150,150),batch_size=10,class_mode='binary')\n",
    "    # Expected output: 'Found 80 images belonging to 2 classes'\n",
    "\n",
    "    # This code block should call model.fit_generator and train for\n",
    "    # a number of epochs.\n",
    "   \n",
    "    history = model.fit_generator(train_generator,steps_per_epoch=5,epochs=20,callbacks=[callbacks])\n",
    "        \n",
    "    # model fitting\n",
    "    return history.history['acc'][-1]"
   ]
  },
  {
   "cell_type": "code",
   "execution_count": 29,
   "metadata": {},
   "outputs": [
    {
     "name": "stdout",
     "output_type": "stream",
     "text": [
      "Found 80 images belonging to 2 classes.\n",
      "Epoch 1/20\n",
      "5/5 [==============================] - 2s 421ms/step - loss: 3.4172 - acc: 0.4000\n",
      "Epoch 2/20\n",
      "5/5 [==============================] - 0s 39ms/step - loss: 0.7009 - acc: 0.5200\n",
      "Epoch 3/20\n",
      "5/5 [==============================] - 0s 60ms/step - loss: 0.7427 - acc: 0.6600\n",
      "Epoch 4/20\n",
      "5/5 [==============================] - 0s 60ms/step - loss: 0.4706 - acc: 0.8200\n",
      "Epoch 5/20\n",
      "5/5 [==============================] - 0s 63ms/step - loss: 0.5648 - acc: 0.7600\n",
      "Epoch 6/20\n",
      "5/5 [==============================] - 0s 55ms/step - loss: 0.5247 - acc: 0.7200\n",
      "Epoch 7/20\n",
      "5/5 [==============================] - 0s 59ms/step - loss: 0.2465 - acc: 0.9000\n",
      "Epoch 8/20\n",
      "5/5 [==============================] - 0s 57ms/step - loss: 0.2847 - acc: 0.8600\n",
      "Epoch 9/20\n",
      "5/5 [==============================] - 0s 60ms/step - loss: 0.2338 - acc: 0.9200\n",
      "Epoch 10/20\n",
      "5/5 [==============================] - 0s 44ms/step - loss: 0.1664 - acc: 0.9400\n",
      "Epoch 11/20\n",
      "5/5 [==============================] - 0s 44ms/step - loss: 0.0780 - acc: 0.9800\n",
      "Epoch 12/20\n",
      "5/5 [==============================] - 0s 60ms/step - loss: 0.3107 - acc: 0.8800\n",
      "Epoch 13/20\n",
      "5/5 [==============================] - 0s 64ms/step - loss: 0.2044 - acc: 0.8800\n",
      "Epoch 14/20\n",
      "5/5 [==============================] - 0s 56ms/step - loss: 0.0761 - acc: 0.9800\n",
      "Epoch 15/20\n",
      "5/5 [==============================] - 0s 62ms/step - loss: 0.1070 - acc: 0.9600\n",
      "Epoch 16/20\n",
      "4/5 [=======================>......] - ETA: 0s - loss: 0.0452 - acc: 1.0000\n",
      "Reached 99.9% accuracy so cancelling training!\n",
      "5/5 [==============================] - 0s 59ms/step - loss: 0.0399 - acc: 1.0000\n"
     ]
    },
    {
     "data": {
      "text/plain": [
       "1.0"
      ]
     },
     "execution_count": 29,
     "metadata": {},
     "output_type": "execute_result"
    }
   ],
   "source": [
    "# The Expected output: \"Reached 99.9% accuracy so cancelling training!\"\"\n",
    "train_happy_sad_model()"
   ]
  },
  {
   "cell_type": "code",
   "execution_count": null,
   "metadata": {},
   "outputs": [],
   "source": []
  }
 ],
 "metadata": {
  "coursera": {
   "course_slug": "introduction-tensorflow",
   "graded_item_id": "1kAlw",
   "launcher_item_id": "PNLYD"
  },
  "kernelspec": {
   "display_name": "Python 3",
   "language": "python",
   "name": "python3"
  },
  "language_info": {
   "codemirror_mode": {
    "name": "ipython",
    "version": 3
   },
   "file_extension": ".py",
   "mimetype": "text/x-python",
   "name": "python",
   "nbconvert_exporter": "python",
   "pygments_lexer": "ipython3",
   "version": "3.6.8"
  }
 },
 "nbformat": 4,
 "nbformat_minor": 1
}
